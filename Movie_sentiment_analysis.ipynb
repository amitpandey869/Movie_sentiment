{
  "nbformat": 4,
  "nbformat_minor": 0,
  "metadata": {
    "colab": {
      "provenance": [],
      "authorship_tag": "ABX9TyMVqA0s3oIG7JMuV8TMd0xm",
      "include_colab_link": true
    },
    "kernelspec": {
      "name": "python3",
      "display_name": "Python 3"
    },
    "language_info": {
      "name": "python"
    }
  },
  "cells": [
    {
      "cell_type": "markdown",
      "metadata": {
        "id": "view-in-github",
        "colab_type": "text"
      },
      "source": [
        "<a href=\"https://colab.research.google.com/github/amitpandey869/suraj/blob/master/Movie_sentiment_analysis.ipynb\" target=\"_parent\"><img src=\"https://colab.research.google.com/assets/colab-badge.svg\" alt=\"Open In Colab\"/></a>"
      ]
    },
    {
      "cell_type": "code",
      "execution_count": 1,
      "metadata": {
        "colab": {
          "base_uri": "https://localhost:8080/"
        },
        "id": "_7j5TS-j_fET",
        "outputId": "2409bd22-a832-425a-bc2b-5f2b15d5c396"
      },
      "outputs": [
        {
          "output_type": "stream",
          "name": "stdout",
          "text": [
            "Downloading data from https://storage.googleapis.com/tensorflow/tf-keras-datasets/imdb.npz\n",
            "17464789/17464789 [==============================] - 0s 0us/step\n",
            "Epoch 1/3\n",
            "313/313 [==============================] - 34s 94ms/step - loss: 0.6934 - accuracy: 0.5149 - val_loss: 0.6905 - val_accuracy: 0.5256\n",
            "Epoch 2/3\n",
            "313/313 [==============================] - 29s 94ms/step - loss: 0.6659 - accuracy: 0.5960 - val_loss: 0.6876 - val_accuracy: 0.5244\n",
            "Epoch 3/3\n",
            "313/313 [==============================] - 29s 92ms/step - loss: 0.6432 - accuracy: 0.6199 - val_loss: 0.6432 - val_accuracy: 0.6492\n",
            "782/782 [==============================] - 12s 15ms/step\n",
            "Accuracy: 0.646\n",
            "              precision    recall  f1-score   support\n",
            "\n",
            "    Negative       0.71      0.49      0.58     12500\n",
            "    Positive       0.61      0.80      0.69     12500\n",
            "\n",
            "    accuracy                           0.65     25000\n",
            "   macro avg       0.66      0.65      0.64     25000\n",
            "weighted avg       0.66      0.65      0.64     25000\n",
            "\n"
          ]
        }
      ],
      "source": [
        "import numpy as np\n",
        "import tensorflow as tf\n",
        "from tensorflow import keras\n",
        "from tensorflow.keras.layers import Input, Dense, Embedding, LSTM\n",
        "from tensorflow.keras.preprocessing.text import Tokenizer\n",
        "from tensorflow.keras.preprocessing.sequence import pad_sequences\n",
        "from sklearn.metrics import accuracy_score, classification_report\n",
        "\n",
        "# Load the IMDB dataset from Keras\n",
        "imdb = keras.datasets.imdb\n",
        "(train_data, train_labels), (test_data, test_labels) = imdb.load_data(num_words=10000)  # Use the top 10,000 words\n",
        "\n",
        "# Preprocess the data\n",
        "max_sequence_length = 256  # You can adjust this value\n",
        "train_data = pad_sequences(train_data, maxlen=max_sequence_length, padding='post', truncating='post')\n",
        "test_data = pad_sequences(test_data, maxlen=max_sequence_length, padding='post', truncating='post')\n",
        "\n",
        "# Build the model\n",
        "model = keras.Sequential([\n",
        "    Embedding(input_dim=10000, output_dim=32, input_length=max_sequence_length),\n",
        "    LSTM(32),\n",
        "    Dense(1, activation='sigmoid')\n",
        "])\n",
        "\n",
        "model.compile(optimizer='adam', loss='binary_crossentropy', metrics=['accuracy'])\n",
        "\n",
        "# Train the model\n",
        "model.fit(train_data, train_labels, epochs=3, batch_size=64, validation_split=0.2)\n",
        "\n",
        "# Evaluate the model\n",
        "test_predictions = model.predict(test_data)\n",
        "test_predictions = (test_predictions > 0.5).astype(int)\n",
        "\n",
        "test_labels = np.array(test_labels)\n",
        "\n",
        "accuracy = accuracy_score(test_labels, test_predictions)\n",
        "print(f'Accuracy: {accuracy}')\n",
        "print(classification_report(test_labels, test_predictions, target_names=['Negative', 'Positive']))\n"
      ]
    }
  ]
}